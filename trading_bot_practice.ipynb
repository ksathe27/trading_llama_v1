{
 "cells": [
  {
   "cell_type": "code",
   "execution_count": 22,
   "id": "76acf645",
   "metadata": {
    "tags": []
   },
   "outputs": [],
   "source": [
    "import os\n",
    "os.environ[\"CUDA_DEVICE_ORDER\"]=\"PCI_BUS_ID\"\n",
    "os.environ[\"CUDA_VISIBLE_DEVICES\"]=\"-1\"  # or even \"-1\"\n",
    "import warnings\n",
    "warnings.filterwarnings(\"ignore\")\n",
    "import pandas as pd\n",
    "import numpy as np\n",
    "import matplotlib\n",
    "import matplotlib.pyplot as plt\n",
    "# matplotlib.use('Agg')\n",
    "import datetime\n",
    "\n",
    "from finrl.config_tickers import DOW_30_TICKER\n",
    "from finrl.meta.preprocessor.yahoodownloader import YahooDownloader\n",
    "from finrl.meta.preprocessor.preprocessors import FeatureEngineer, data_split\n",
    "from finrl.meta.env_stock_trading.env_stocktrading import StockTradingEnv\n",
    "from finrl.agents.stablebaselines3.models import DRLAgent,DRLEnsembleAgent\n",
    "from finrl.plot import backtest_stats, backtest_plot, get_daily_return, get_baseline\n",
    "\n",
    "from pprint import pprint\n",
    "\n",
    "import sys\n",
    "sys.path.append(\"../FinRL-Library\")"
   ]
  },
  {
   "cell_type": "code",
   "execution_count": 23,
   "id": "f7a7e6b7",
   "metadata": {
    "tags": []
   },
   "outputs": [
    {
     "name": "stdout",
     "output_type": "stream",
     "text": [
      "['AXP', 'AMGN', 'AAPL', 'BA', 'CAT', 'CSCO', 'CVX', 'GS', 'HD', 'HON', 'IBM', 'INTC', 'JNJ', 'KO', 'JPM', 'MCD', 'MMM', 'MRK', 'MSFT', 'NKE', 'PG', 'TRV', 'UNH', 'CRM', 'VZ', 'V', 'WBA', 'WMT', 'DIS', 'DOW']\n"
     ]
    }
   ],
   "source": [
    "\n",
    "import itertools\n",
    "import os\n",
    "from finrl.main import check_and_make_directories\n",
    "from finrl.config import (\n",
    "    DATA_SAVE_DIR,\n",
    "    TRAINED_MODEL_DIR,\n",
    "    TENSORBOARD_LOG_DIR,\n",
    "    RESULTS_DIR,\n",
    "    INDICATORS,\n",
    "    TRAIN_START_DATE,\n",
    "    TRAIN_END_DATE,\n",
    "    TEST_START_DATE,\n",
    "    TEST_END_DATE,\n",
    "    TRADE_START_DATE,\n",
    "    TRADE_END_DATE,\n",
    ")\n",
    "\n",
    "check_and_make_directories([DATA_SAVE_DIR, TRAINED_MODEL_DIR, TENSORBOARD_LOG_DIR, RESULTS_DIR])\n",
    "\n",
    "print(DOW_30_TICKER)"
   ]
  },
  {
   "cell_type": "code",
   "execution_count": 24,
   "id": "1a4c9708",
   "metadata": {
    "tags": []
   },
   "outputs": [],
   "source": [
    "%matplotlib inline\n"
   ]
  },
  {
   "cell_type": "code",
   "execution_count": 25,
   "id": "5d9de212-8b84-457a-ad64-282bd3013a26",
   "metadata": {
    "tags": []
   },
   "outputs": [
    {
     "name": "stdout",
     "output_type": "stream",
     "text": [
      "[*********************100%***********************]  1 of 1 completed\n",
      "[*********************100%***********************]  1 of 1 completed\n",
      "[*********************100%***********************]  1 of 1 completed\n",
      "[*********************100%***********************]  1 of 1 completed\n",
      "[*********************100%***********************]  1 of 1 completed\n",
      "[*********************100%***********************]  1 of 1 completed\n",
      "[*********************100%***********************]  1 of 1 completed\n",
      "[*********************100%***********************]  1 of 1 completed\n",
      "[*********************100%***********************]  1 of 1 completed\n",
      "[*********************100%***********************]  1 of 1 completed\n",
      "[*********************100%***********************]  1 of 1 completed\n",
      "[*********************100%***********************]  1 of 1 completed\n",
      "[*********************100%***********************]  1 of 1 completed\n",
      "[*********************100%***********************]  1 of 1 completed\n",
      "[*********************100%***********************]  1 of 1 completed\n",
      "[*********************100%***********************]  1 of 1 completed\n",
      "[*********************100%***********************]  1 of 1 completed\n",
      "[*********************100%***********************]  1 of 1 completed\n",
      "[*********************100%***********************]  1 of 1 completed\n",
      "[*********************100%***********************]  1 of 1 completed\n",
      "[*********************100%***********************]  1 of 1 completed\n",
      "[*********************100%***********************]  1 of 1 completed\n",
      "[*********************100%***********************]  1 of 1 completed\n",
      "[*********************100%***********************]  1 of 1 completed\n",
      "[*********************100%***********************]  1 of 1 completed\n",
      "[*********************100%***********************]  1 of 1 completed\n",
      "[*********************100%***********************]  1 of 1 completed\n",
      "[*********************100%***********************]  1 of 1 completed\n",
      "[*********************100%***********************]  1 of 1 completed\n",
      "[*********************100%***********************]  1 of 1 completed\n",
      "Shape of DataFrame:  (96942, 8)\n"
     ]
    }
   ],
   "source": [
    "TRAIN_START_DATE = '2009-04-01'\n",
    "TRAIN_END_DATE = '2021-01-01'\n",
    "TEST_START_DATE = '2021-01-01'\n",
    "TEST_END_DATE = '2022-06-01'\n",
    "\n",
    "df = YahooDownloader(start_date = TRAIN_START_DATE,\n",
    "                     end_date = TEST_END_DATE,\n",
    "                     ticker_list = DOW_30_TICKER).fetch_data()"
   ]
  },
  {
   "cell_type": "code",
   "execution_count": 26,
   "id": "aac0bb33-7f73-4522-8aa7-b02fc513de22",
   "metadata": {
    "tags": []
   },
   "outputs": [
    {
     "data": {
      "text/html": [
       "<div>\n",
       "<style scoped>\n",
       "    .dataframe tbody tr th:only-of-type {\n",
       "        vertical-align: middle;\n",
       "    }\n",
       "\n",
       "    .dataframe tbody tr th {\n",
       "        vertical-align: top;\n",
       "    }\n",
       "\n",
       "    .dataframe thead th {\n",
       "        text-align: right;\n",
       "    }\n",
       "</style>\n",
       "<table border=\"1\" class=\"dataframe\">\n",
       "  <thead>\n",
       "    <tr style=\"text-align: right;\">\n",
       "      <th></th>\n",
       "      <th>date</th>\n",
       "      <th>open</th>\n",
       "      <th>high</th>\n",
       "      <th>low</th>\n",
       "      <th>close</th>\n",
       "      <th>volume</th>\n",
       "      <th>tic</th>\n",
       "      <th>day</th>\n",
       "    </tr>\n",
       "  </thead>\n",
       "  <tbody>\n",
       "    <tr>\n",
       "      <th>0</th>\n",
       "      <td>2009-04-01</td>\n",
       "      <td>3.717500</td>\n",
       "      <td>3.892857</td>\n",
       "      <td>3.710357</td>\n",
       "      <td>3.303859</td>\n",
       "      <td>589372000</td>\n",
       "      <td>AAPL</td>\n",
       "      <td>2</td>\n",
       "    </tr>\n",
       "    <tr>\n",
       "      <th>1</th>\n",
       "      <td>2009-04-01</td>\n",
       "      <td>48.779999</td>\n",
       "      <td>48.930000</td>\n",
       "      <td>47.099998</td>\n",
       "      <td>35.911701</td>\n",
       "      <td>10850100</td>\n",
       "      <td>AMGN</td>\n",
       "      <td>2</td>\n",
       "    </tr>\n",
       "    <tr>\n",
       "      <th>2</th>\n",
       "      <td>2009-04-01</td>\n",
       "      <td>13.340000</td>\n",
       "      <td>14.640000</td>\n",
       "      <td>13.080000</td>\n",
       "      <td>11.732111</td>\n",
       "      <td>27701800</td>\n",
       "      <td>AXP</td>\n",
       "      <td>2</td>\n",
       "    </tr>\n",
       "    <tr>\n",
       "      <th>3</th>\n",
       "      <td>2009-04-01</td>\n",
       "      <td>34.520000</td>\n",
       "      <td>35.599998</td>\n",
       "      <td>34.209999</td>\n",
       "      <td>26.850750</td>\n",
       "      <td>9288800</td>\n",
       "      <td>BA</td>\n",
       "      <td>2</td>\n",
       "    </tr>\n",
       "    <tr>\n",
       "      <th>4</th>\n",
       "      <td>2009-04-01</td>\n",
       "      <td>27.500000</td>\n",
       "      <td>29.520000</td>\n",
       "      <td>27.440001</td>\n",
       "      <td>19.726315</td>\n",
       "      <td>15308300</td>\n",
       "      <td>CAT</td>\n",
       "      <td>2</td>\n",
       "    </tr>\n",
       "  </tbody>\n",
       "</table>\n",
       "</div>"
      ],
      "text/plain": [
       "         date       open       high        low      close     volume   tic  \\\n",
       "0  2009-04-01   3.717500   3.892857   3.710357   3.303859  589372000  AAPL   \n",
       "1  2009-04-01  48.779999  48.930000  47.099998  35.911701   10850100  AMGN   \n",
       "2  2009-04-01  13.340000  14.640000  13.080000  11.732111   27701800   AXP   \n",
       "3  2009-04-01  34.520000  35.599998  34.209999  26.850750    9288800    BA   \n",
       "4  2009-04-01  27.500000  29.520000  27.440001  19.726315   15308300   CAT   \n",
       "\n",
       "   day  \n",
       "0    2  \n",
       "1    2  \n",
       "2    2  \n",
       "3    2  \n",
       "4    2  "
      ]
     },
     "execution_count": 26,
     "metadata": {},
     "output_type": "execute_result"
    }
   ],
   "source": [
    "df.head()"
   ]
  },
  {
   "cell_type": "code",
   "execution_count": 27,
   "id": "803586ff-36d9-4e8e-8967-85c91d618b79",
   "metadata": {
    "tags": []
   },
   "outputs": [
    {
     "data": {
      "text/html": [
       "<div>\n",
       "<style scoped>\n",
       "    .dataframe tbody tr th:only-of-type {\n",
       "        vertical-align: middle;\n",
       "    }\n",
       "\n",
       "    .dataframe tbody tr th {\n",
       "        vertical-align: top;\n",
       "    }\n",
       "\n",
       "    .dataframe thead th {\n",
       "        text-align: right;\n",
       "    }\n",
       "</style>\n",
       "<table border=\"1\" class=\"dataframe\">\n",
       "  <thead>\n",
       "    <tr style=\"text-align: right;\">\n",
       "      <th></th>\n",
       "      <th>date</th>\n",
       "      <th>open</th>\n",
       "      <th>high</th>\n",
       "      <th>low</th>\n",
       "      <th>close</th>\n",
       "      <th>volume</th>\n",
       "      <th>tic</th>\n",
       "      <th>day</th>\n",
       "    </tr>\n",
       "  </thead>\n",
       "  <tbody>\n",
       "    <tr>\n",
       "      <th>96937</th>\n",
       "      <td>2022-05-31</td>\n",
       "      <td>503.619995</td>\n",
       "      <td>504.109985</td>\n",
       "      <td>495.660004</td>\n",
       "      <td>490.203857</td>\n",
       "      <td>4003100</td>\n",
       "      <td>UNH</td>\n",
       "      <td>1</td>\n",
       "    </tr>\n",
       "    <tr>\n",
       "      <th>96938</th>\n",
       "      <td>2022-05-31</td>\n",
       "      <td>210.380005</td>\n",
       "      <td>214.350006</td>\n",
       "      <td>209.110001</td>\n",
       "      <td>210.909439</td>\n",
       "      <td>9586400</td>\n",
       "      <td>V</td>\n",
       "      <td>1</td>\n",
       "    </tr>\n",
       "    <tr>\n",
       "      <th>96939</th>\n",
       "      <td>2022-05-31</td>\n",
       "      <td>51.259998</td>\n",
       "      <td>51.560001</td>\n",
       "      <td>50.849998</td>\n",
       "      <td>49.042248</td>\n",
       "      <td>25016600</td>\n",
       "      <td>VZ</td>\n",
       "      <td>1</td>\n",
       "    </tr>\n",
       "    <tr>\n",
       "      <th>96940</th>\n",
       "      <td>2022-05-31</td>\n",
       "      <td>43.480000</td>\n",
       "      <td>44.270000</td>\n",
       "      <td>43.049999</td>\n",
       "      <td>42.252163</td>\n",
       "      <td>8192000</td>\n",
       "      <td>WBA</td>\n",
       "      <td>1</td>\n",
       "    </tr>\n",
       "    <tr>\n",
       "      <th>96941</th>\n",
       "      <td>2022-05-31</td>\n",
       "      <td>127.459999</td>\n",
       "      <td>129.899994</td>\n",
       "      <td>127.419998</td>\n",
       "      <td>127.591217</td>\n",
       "      <td>12304100</td>\n",
       "      <td>WMT</td>\n",
       "      <td>1</td>\n",
       "    </tr>\n",
       "  </tbody>\n",
       "</table>\n",
       "</div>"
      ],
      "text/plain": [
       "             date        open        high         low       close    volume  \\\n",
       "96937  2022-05-31  503.619995  504.109985  495.660004  490.203857   4003100   \n",
       "96938  2022-05-31  210.380005  214.350006  209.110001  210.909439   9586400   \n",
       "96939  2022-05-31   51.259998   51.560001   50.849998   49.042248  25016600   \n",
       "96940  2022-05-31   43.480000   44.270000   43.049999   42.252163   8192000   \n",
       "96941  2022-05-31  127.459999  129.899994  127.419998  127.591217  12304100   \n",
       "\n",
       "       tic  day  \n",
       "96937  UNH    1  \n",
       "96938    V    1  \n",
       "96939   VZ    1  \n",
       "96940  WBA    1  \n",
       "96941  WMT    1  "
      ]
     },
     "execution_count": 27,
     "metadata": {},
     "output_type": "execute_result"
    }
   ],
   "source": [
    "df.tail()\n"
   ]
  },
  {
   "cell_type": "code",
   "execution_count": 28,
   "id": "066b4224-2029-4b15-a937-df85053e1ab1",
   "metadata": {
    "tags": []
   },
   "outputs": [
    {
     "data": {
      "text/plain": [
       "(96942, 8)"
      ]
     },
     "execution_count": 28,
     "metadata": {},
     "output_type": "execute_result"
    }
   ],
   "source": [
    "df.shape"
   ]
  },
  {
   "cell_type": "code",
   "execution_count": 29,
   "id": "68da2b2d-15dc-4625-bea7-d26f85536ccc",
   "metadata": {
    "tags": []
   },
   "outputs": [
    {
     "data": {
      "text/html": [
       "<div>\n",
       "<style scoped>\n",
       "    .dataframe tbody tr th:only-of-type {\n",
       "        vertical-align: middle;\n",
       "    }\n",
       "\n",
       "    .dataframe tbody tr th {\n",
       "        vertical-align: top;\n",
       "    }\n",
       "\n",
       "    .dataframe thead th {\n",
       "        text-align: right;\n",
       "    }\n",
       "</style>\n",
       "<table border=\"1\" class=\"dataframe\">\n",
       "  <thead>\n",
       "    <tr style=\"text-align: right;\">\n",
       "      <th></th>\n",
       "      <th>date</th>\n",
       "      <th>open</th>\n",
       "      <th>high</th>\n",
       "      <th>low</th>\n",
       "      <th>close</th>\n",
       "      <th>volume</th>\n",
       "      <th>tic</th>\n",
       "      <th>day</th>\n",
       "    </tr>\n",
       "  </thead>\n",
       "  <tbody>\n",
       "    <tr>\n",
       "      <th>0</th>\n",
       "      <td>2009-04-01</td>\n",
       "      <td>3.717500</td>\n",
       "      <td>3.892857</td>\n",
       "      <td>3.710357</td>\n",
       "      <td>3.303859</td>\n",
       "      <td>589372000</td>\n",
       "      <td>AAPL</td>\n",
       "      <td>2</td>\n",
       "    </tr>\n",
       "    <tr>\n",
       "      <th>1</th>\n",
       "      <td>2009-04-01</td>\n",
       "      <td>48.779999</td>\n",
       "      <td>48.930000</td>\n",
       "      <td>47.099998</td>\n",
       "      <td>35.911701</td>\n",
       "      <td>10850100</td>\n",
       "      <td>AMGN</td>\n",
       "      <td>2</td>\n",
       "    </tr>\n",
       "    <tr>\n",
       "      <th>2</th>\n",
       "      <td>2009-04-01</td>\n",
       "      <td>13.340000</td>\n",
       "      <td>14.640000</td>\n",
       "      <td>13.080000</td>\n",
       "      <td>11.732111</td>\n",
       "      <td>27701800</td>\n",
       "      <td>AXP</td>\n",
       "      <td>2</td>\n",
       "    </tr>\n",
       "    <tr>\n",
       "      <th>3</th>\n",
       "      <td>2009-04-01</td>\n",
       "      <td>34.520000</td>\n",
       "      <td>35.599998</td>\n",
       "      <td>34.209999</td>\n",
       "      <td>26.850750</td>\n",
       "      <td>9288800</td>\n",
       "      <td>BA</td>\n",
       "      <td>2</td>\n",
       "    </tr>\n",
       "    <tr>\n",
       "      <th>4</th>\n",
       "      <td>2009-04-01</td>\n",
       "      <td>27.500000</td>\n",
       "      <td>29.520000</td>\n",
       "      <td>27.440001</td>\n",
       "      <td>19.726315</td>\n",
       "      <td>15308300</td>\n",
       "      <td>CAT</td>\n",
       "      <td>2</td>\n",
       "    </tr>\n",
       "  </tbody>\n",
       "</table>\n",
       "</div>"
      ],
      "text/plain": [
       "         date       open       high        low      close     volume   tic  \\\n",
       "0  2009-04-01   3.717500   3.892857   3.710357   3.303859  589372000  AAPL   \n",
       "1  2009-04-01  48.779999  48.930000  47.099998  35.911701   10850100  AMGN   \n",
       "2  2009-04-01  13.340000  14.640000  13.080000  11.732111   27701800   AXP   \n",
       "3  2009-04-01  34.520000  35.599998  34.209999  26.850750    9288800    BA   \n",
       "4  2009-04-01  27.500000  29.520000  27.440001  19.726315   15308300   CAT   \n",
       "\n",
       "   day  \n",
       "0    2  \n",
       "1    2  \n",
       "2    2  \n",
       "3    2  \n",
       "4    2  "
      ]
     },
     "execution_count": 29,
     "metadata": {},
     "output_type": "execute_result"
    }
   ],
   "source": [
    "df.sort_values(['date','tic']).head()\n"
   ]
  },
  {
   "cell_type": "code",
   "execution_count": 30,
   "id": "382cbc3a-514e-4791-885a-75650c7d29c4",
   "metadata": {
    "tags": []
   },
   "outputs": [
    {
     "data": {
      "text/plain": [
       "30"
      ]
     },
     "execution_count": 30,
     "metadata": {},
     "output_type": "execute_result"
    }
   ],
   "source": [
    "len(df.tic.unique())"
   ]
  },
  {
   "cell_type": "code",
   "execution_count": 31,
   "id": "2830913f-37b9-4862-9d1d-c30fecbf1a39",
   "metadata": {
    "tags": []
   },
   "outputs": [
    {
     "data": {
      "text/plain": [
       "AAPL    3315\n",
       "AMGN    3315\n",
       "WMT     3315\n",
       "WBA     3315\n",
       "VZ      3315\n",
       "V       3315\n",
       "UNH     3315\n",
       "TRV     3315\n",
       "PG      3315\n",
       "NKE     3315\n",
       "MSFT    3315\n",
       "MRK     3315\n",
       "MMM     3315\n",
       "MCD     3315\n",
       "KO      3315\n",
       "JPM     3315\n",
       "JNJ     3315\n",
       "INTC    3315\n",
       "IBM     3315\n",
       "HON     3315\n",
       "HD      3315\n",
       "GS      3315\n",
       "DIS     3315\n",
       "CVX     3315\n",
       "CSCO    3315\n",
       "CRM     3315\n",
       "CAT     3315\n",
       "BA      3315\n",
       "AXP     3315\n",
       "DOW      807\n",
       "Name: tic, dtype: int64"
      ]
     },
     "execution_count": 31,
     "metadata": {},
     "output_type": "execute_result"
    }
   ],
   "source": [
    "df.tic.value_counts()\n"
   ]
  },
  {
   "cell_type": "code",
   "execution_count": 32,
   "id": "7377c45b-82d0-42c3-82f1-ab8ce8b25a1d",
   "metadata": {
    "tags": []
   },
   "outputs": [],
   "source": [
    " INDICATORS = ['macd',\n",
    "               'rsi_30',\n",
    "               'cci_30',\n",
    "               'dx_30']"
   ]
  },
  {
   "cell_type": "code",
   "execution_count": null,
   "id": "44ea3644-bdb7-4750-a16b-bce479eb578c",
   "metadata": {
    "tags": []
   },
   "outputs": [
    {
     "name": "stdout",
     "output_type": "stream",
     "text": [
      "Successfully added technical indicators\n"
     ]
    }
   ],
   "source": [
    "fe = FeatureEngineer(use_technical_indicator=True,\n",
    "                     tech_indicator_list = INDICATORS,\n",
    "                     use_turbulence=True,\n",
    "                     user_defined_feature = False)\n",
    "\n",
    "processed = fe.preprocess_data(df)\n",
    "processed = processed.copy()\n",
    "processed = processed.fillna(0)\n",
    "processed = processed.replace(np.inf,0)"
   ]
  },
  {
   "cell_type": "code",
   "execution_count": null,
   "id": "7ec6223c-020d-48fc-aad4-eb1f4167c327",
   "metadata": {
    "tags": []
   },
   "outputs": [],
   "source": [
    "processed.sample(5)\n"
   ]
  },
  {
   "cell_type": "code",
   "execution_count": null,
   "id": "f49963c0-65e0-4f50-9017-aa1a2a2be935",
   "metadata": {
    "tags": []
   },
   "outputs": [],
   "source": [
    "stock_dimension = len(processed.tic.unique())\n",
    "state_space = 1 + 2*stock_dimension + len(INDICATORS)*stock_dimension\n",
    "print(f\"Stock Dimension: {stock_dimension}, State Space: {state_space}\")"
   ]
  },
  {
   "cell_type": "code",
   "execution_count": null,
   "id": "9f0e3142-da0e-41cf-930c-6be8047272ce",
   "metadata": {
    "tags": []
   },
   "outputs": [],
   "source": [
    "env_kwargs = {\n",
    "    \"hmax\": 100, \n",
    "    \"initial_amount\": 1000000, \n",
    "    \"buy_cost_pct\": 0.001, \n",
    "    \"sell_cost_pct\": 0.001, \n",
    "    \"state_space\": state_space, \n",
    "    \"stock_dim\": stock_dimension, \n",
    "    \"tech_indicator_list\": INDICATORS,\n",
    "    \"action_space\": stock_dimension, \n",
    "    \"reward_scaling\": 1e-4,\n",
    "    \"print_verbosity\":5\n",
    "    \n",
    "}"
   ]
  },
  {
   "cell_type": "code",
   "execution_count": null,
   "id": "a53d433e-8049-40f3-9050-5b1fc68d4c16",
   "metadata": {
    "tags": []
   },
   "outputs": [],
   "source": [
    "rebalance_window = 63 #63 # rebalance_window is the number of days to retrain the model\n",
    "validation_window = 63 #63 # validation_window is the number of days to do validation and trading (e.g. if validation_window=63, then both validation and trading period will be 63 days)\n",
    "\n",
    "ensemble_agent = DRLEnsembleAgent(df=processed,\n",
    "                 train_period=(TRAIN_START_DATE,TRAIN_END_DATE),\n",
    "                 val_test_period=(TEST_START_DATE,TEST_END_DATE),\n",
    "                 rebalance_window=rebalance_window, \n",
    "                 validation_window=validation_window, \n",
    "                 **env_kwargs)"
   ]
  },
  {
   "cell_type": "code",
   "execution_count": null,
   "id": "6b8a0884-0b82-46cf-a310-48a5476ca95a",
   "metadata": {
    "tags": []
   },
   "outputs": [],
   "source": [
    "A2C_model_kwargs = {\n",
    "                    'n_steps': 5,\n",
    "                    'ent_coef': 0.005,\n",
    "                    'learning_rate': 0.0007\n",
    "                    }\n",
    "\n",
    "PPO_model_kwargs = {\n",
    "                    \"ent_coef\":0.01,\n",
    "                    \"n_steps\": 2, #2048\n",
    "                    \"learning_rate\": 0.00025,\n",
    "                    \"batch_size\": 128\n",
    "                    }\n",
    "\n",
    "DDPG_model_kwargs = {\n",
    "                      #\"action_noise\":\"ornstein_uhlenbeck\",\n",
    "                      \"buffer_size\": 1, #10_000\n",
    "                      \"learning_rate\": 0.0005,\n",
    "                      \"batch_size\": 64\n",
    "                    }\n",
    "\n",
    "timesteps_dict = {'a2c' : 1, #10_000 each\n",
    "                 'ppo' : 1, \n",
    "                 'ddpg' : 1\n",
    "                 }"
   ]
  },
  {
   "cell_type": "code",
   "execution_count": null,
   "id": "b2bb10c2-b83d-44b1-9df9-8579cfafd243",
   "metadata": {
    "tags": []
   },
   "outputs": [],
   "source": [
    "df_summary = ensemble_agent.run_ensemble_strategy(A2C_model_kwargs,\n",
    "                                                 PPO_model_kwargs,\n",
    "                                                 DDPG_model_kwargs,\n",
    "                                                 timesteps_dict)"
   ]
  }
 ],
 "metadata": {
  "kernelspec": {
   "display_name": "Python 3 (ipykernel)",
   "language": "python",
   "name": "python3"
  },
  "language_info": {
   "codemirror_mode": {
    "name": "ipython",
    "version": 3
   },
   "file_extension": ".py",
   "mimetype": "text/x-python",
   "name": "python",
   "nbconvert_exporter": "python",
   "pygments_lexer": "ipython3",
   "version": "3.10.10"
  }
 },
 "nbformat": 4,
 "nbformat_minor": 5
}
